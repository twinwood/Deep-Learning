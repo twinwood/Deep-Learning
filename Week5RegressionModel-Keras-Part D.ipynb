{
 "cells": [
  {
   "cell_type": "markdown",
   "id": "03809a67-d3b1-4cc9-9114-c85518ad10a4",
   "metadata": {},
   "source": [
    "#Peer-graded Assignment: Build a Regression Model in Keras - Part D (Increase Hidden layer, 50 epochs)"
   ]
  },
  {
   "cell_type": "code",
   "execution_count": 1,
   "id": "6b0d4343-13a6-4fee-af17-c15dd3e71d0d",
   "metadata": {},
   "outputs": [],
   "source": [
    "#Import all the necessary library\n",
    "import pandas as pd\n",
    "import numpy as np\n",
    "\n"
   ]
  },
  {
   "cell_type": "code",
   "execution_count": 2,
   "id": "7eb111c6-a0a9-47be-ba37-8746bd9a24cb",
   "metadata": {},
   "outputs": [
    {
     "data": {
      "text/html": [
       "<div>\n",
       "<style scoped>\n",
       "    .dataframe tbody tr th:only-of-type {\n",
       "        vertical-align: middle;\n",
       "    }\n",
       "\n",
       "    .dataframe tbody tr th {\n",
       "        vertical-align: top;\n",
       "    }\n",
       "\n",
       "    .dataframe thead th {\n",
       "        text-align: right;\n",
       "    }\n",
       "</style>\n",
       "<table border=\"1\" class=\"dataframe\">\n",
       "  <thead>\n",
       "    <tr style=\"text-align: right;\">\n",
       "      <th></th>\n",
       "      <th>Cement</th>\n",
       "      <th>Blast Furnace Slag</th>\n",
       "      <th>Fly Ash</th>\n",
       "      <th>Water</th>\n",
       "      <th>Superplasticizer</th>\n",
       "      <th>Coarse Aggregate</th>\n",
       "      <th>Fine Aggregate</th>\n",
       "      <th>Age</th>\n",
       "      <th>Strength</th>\n",
       "    </tr>\n",
       "  </thead>\n",
       "  <tbody>\n",
       "    <tr>\n",
       "      <th>0</th>\n",
       "      <td>540.0</td>\n",
       "      <td>0.0</td>\n",
       "      <td>0.0</td>\n",
       "      <td>162.0</td>\n",
       "      <td>2.5</td>\n",
       "      <td>1040.0</td>\n",
       "      <td>676.0</td>\n",
       "      <td>28</td>\n",
       "      <td>79.99</td>\n",
       "    </tr>\n",
       "    <tr>\n",
       "      <th>1</th>\n",
       "      <td>540.0</td>\n",
       "      <td>0.0</td>\n",
       "      <td>0.0</td>\n",
       "      <td>162.0</td>\n",
       "      <td>2.5</td>\n",
       "      <td>1055.0</td>\n",
       "      <td>676.0</td>\n",
       "      <td>28</td>\n",
       "      <td>61.89</td>\n",
       "    </tr>\n",
       "    <tr>\n",
       "      <th>2</th>\n",
       "      <td>332.5</td>\n",
       "      <td>142.5</td>\n",
       "      <td>0.0</td>\n",
       "      <td>228.0</td>\n",
       "      <td>0.0</td>\n",
       "      <td>932.0</td>\n",
       "      <td>594.0</td>\n",
       "      <td>270</td>\n",
       "      <td>40.27</td>\n",
       "    </tr>\n",
       "    <tr>\n",
       "      <th>3</th>\n",
       "      <td>332.5</td>\n",
       "      <td>142.5</td>\n",
       "      <td>0.0</td>\n",
       "      <td>228.0</td>\n",
       "      <td>0.0</td>\n",
       "      <td>932.0</td>\n",
       "      <td>594.0</td>\n",
       "      <td>365</td>\n",
       "      <td>41.05</td>\n",
       "    </tr>\n",
       "    <tr>\n",
       "      <th>4</th>\n",
       "      <td>198.6</td>\n",
       "      <td>132.4</td>\n",
       "      <td>0.0</td>\n",
       "      <td>192.0</td>\n",
       "      <td>0.0</td>\n",
       "      <td>978.4</td>\n",
       "      <td>825.5</td>\n",
       "      <td>360</td>\n",
       "      <td>44.30</td>\n",
       "    </tr>\n",
       "  </tbody>\n",
       "</table>\n",
       "</div>"
      ],
      "text/plain": [
       "   Cement  Blast Furnace Slag  Fly Ash  Water  Superplasticizer  \\\n",
       "0   540.0                 0.0      0.0  162.0               2.5   \n",
       "1   540.0                 0.0      0.0  162.0               2.5   \n",
       "2   332.5               142.5      0.0  228.0               0.0   \n",
       "3   332.5               142.5      0.0  228.0               0.0   \n",
       "4   198.6               132.4      0.0  192.0               0.0   \n",
       "\n",
       "   Coarse Aggregate  Fine Aggregate  Age  Strength  \n",
       "0            1040.0           676.0   28     79.99  \n",
       "1            1055.0           676.0   28     61.89  \n",
       "2             932.0           594.0  270     40.27  \n",
       "3             932.0           594.0  365     41.05  \n",
       "4             978.4           825.5  360     44.30  "
      ]
     },
     "execution_count": 2,
     "metadata": {},
     "output_type": "execute_result"
    }
   ],
   "source": [
    "df = pd.read_csv ('https://cocl.us/concrete_data')\n",
    "df.head()"
   ]
  },
  {
   "cell_type": "code",
   "execution_count": 3,
   "id": "fa6640b7-aa24-4aaf-9039-4f7ed4607832",
   "metadata": {},
   "outputs": [
    {
     "data": {
      "text/plain": [
       "(1030, 9)"
      ]
     },
     "execution_count": 3,
     "metadata": {},
     "output_type": "execute_result"
    }
   ],
   "source": [
    "df.shape"
   ]
  },
  {
   "cell_type": "code",
   "execution_count": 4,
   "id": "045c7540-ca0d-40e1-9287-dca708d882c7",
   "metadata": {},
   "outputs": [
    {
     "data": {
      "text/html": [
       "<div>\n",
       "<style scoped>\n",
       "    .dataframe tbody tr th:only-of-type {\n",
       "        vertical-align: middle;\n",
       "    }\n",
       "\n",
       "    .dataframe tbody tr th {\n",
       "        vertical-align: top;\n",
       "    }\n",
       "\n",
       "    .dataframe thead th {\n",
       "        text-align: right;\n",
       "    }\n",
       "</style>\n",
       "<table border=\"1\" class=\"dataframe\">\n",
       "  <thead>\n",
       "    <tr style=\"text-align: right;\">\n",
       "      <th></th>\n",
       "      <th>Cement</th>\n",
       "      <th>Blast Furnace Slag</th>\n",
       "      <th>Fly Ash</th>\n",
       "      <th>Water</th>\n",
       "      <th>Superplasticizer</th>\n",
       "      <th>Coarse Aggregate</th>\n",
       "      <th>Fine Aggregate</th>\n",
       "      <th>Age</th>\n",
       "      <th>Strength</th>\n",
       "    </tr>\n",
       "  </thead>\n",
       "  <tbody>\n",
       "    <tr>\n",
       "      <th>count</th>\n",
       "      <td>1030.000000</td>\n",
       "      <td>1030.000000</td>\n",
       "      <td>1030.000000</td>\n",
       "      <td>1030.000000</td>\n",
       "      <td>1030.000000</td>\n",
       "      <td>1030.000000</td>\n",
       "      <td>1030.000000</td>\n",
       "      <td>1030.000000</td>\n",
       "      <td>1030.000000</td>\n",
       "    </tr>\n",
       "    <tr>\n",
       "      <th>mean</th>\n",
       "      <td>281.167864</td>\n",
       "      <td>73.895825</td>\n",
       "      <td>54.188350</td>\n",
       "      <td>181.567282</td>\n",
       "      <td>6.204660</td>\n",
       "      <td>972.918932</td>\n",
       "      <td>773.580485</td>\n",
       "      <td>45.662136</td>\n",
       "      <td>35.817961</td>\n",
       "    </tr>\n",
       "    <tr>\n",
       "      <th>std</th>\n",
       "      <td>104.506364</td>\n",
       "      <td>86.279342</td>\n",
       "      <td>63.997004</td>\n",
       "      <td>21.354219</td>\n",
       "      <td>5.973841</td>\n",
       "      <td>77.753954</td>\n",
       "      <td>80.175980</td>\n",
       "      <td>63.169912</td>\n",
       "      <td>16.705742</td>\n",
       "    </tr>\n",
       "    <tr>\n",
       "      <th>min</th>\n",
       "      <td>102.000000</td>\n",
       "      <td>0.000000</td>\n",
       "      <td>0.000000</td>\n",
       "      <td>121.800000</td>\n",
       "      <td>0.000000</td>\n",
       "      <td>801.000000</td>\n",
       "      <td>594.000000</td>\n",
       "      <td>1.000000</td>\n",
       "      <td>2.330000</td>\n",
       "    </tr>\n",
       "    <tr>\n",
       "      <th>25%</th>\n",
       "      <td>192.375000</td>\n",
       "      <td>0.000000</td>\n",
       "      <td>0.000000</td>\n",
       "      <td>164.900000</td>\n",
       "      <td>0.000000</td>\n",
       "      <td>932.000000</td>\n",
       "      <td>730.950000</td>\n",
       "      <td>7.000000</td>\n",
       "      <td>23.710000</td>\n",
       "    </tr>\n",
       "    <tr>\n",
       "      <th>50%</th>\n",
       "      <td>272.900000</td>\n",
       "      <td>22.000000</td>\n",
       "      <td>0.000000</td>\n",
       "      <td>185.000000</td>\n",
       "      <td>6.400000</td>\n",
       "      <td>968.000000</td>\n",
       "      <td>779.500000</td>\n",
       "      <td>28.000000</td>\n",
       "      <td>34.445000</td>\n",
       "    </tr>\n",
       "    <tr>\n",
       "      <th>75%</th>\n",
       "      <td>350.000000</td>\n",
       "      <td>142.950000</td>\n",
       "      <td>118.300000</td>\n",
       "      <td>192.000000</td>\n",
       "      <td>10.200000</td>\n",
       "      <td>1029.400000</td>\n",
       "      <td>824.000000</td>\n",
       "      <td>56.000000</td>\n",
       "      <td>46.135000</td>\n",
       "    </tr>\n",
       "    <tr>\n",
       "      <th>max</th>\n",
       "      <td>540.000000</td>\n",
       "      <td>359.400000</td>\n",
       "      <td>200.100000</td>\n",
       "      <td>247.000000</td>\n",
       "      <td>32.200000</td>\n",
       "      <td>1145.000000</td>\n",
       "      <td>992.600000</td>\n",
       "      <td>365.000000</td>\n",
       "      <td>82.600000</td>\n",
       "    </tr>\n",
       "  </tbody>\n",
       "</table>\n",
       "</div>"
      ],
      "text/plain": [
       "            Cement  Blast Furnace Slag      Fly Ash        Water  \\\n",
       "count  1030.000000         1030.000000  1030.000000  1030.000000   \n",
       "mean    281.167864           73.895825    54.188350   181.567282   \n",
       "std     104.506364           86.279342    63.997004    21.354219   \n",
       "min     102.000000            0.000000     0.000000   121.800000   \n",
       "25%     192.375000            0.000000     0.000000   164.900000   \n",
       "50%     272.900000           22.000000     0.000000   185.000000   \n",
       "75%     350.000000          142.950000   118.300000   192.000000   \n",
       "max     540.000000          359.400000   200.100000   247.000000   \n",
       "\n",
       "       Superplasticizer  Coarse Aggregate  Fine Aggregate          Age  \\\n",
       "count       1030.000000       1030.000000     1030.000000  1030.000000   \n",
       "mean           6.204660        972.918932      773.580485    45.662136   \n",
       "std            5.973841         77.753954       80.175980    63.169912   \n",
       "min            0.000000        801.000000      594.000000     1.000000   \n",
       "25%            0.000000        932.000000      730.950000     7.000000   \n",
       "50%            6.400000        968.000000      779.500000    28.000000   \n",
       "75%           10.200000       1029.400000      824.000000    56.000000   \n",
       "max           32.200000       1145.000000      992.600000   365.000000   \n",
       "\n",
       "          Strength  \n",
       "count  1030.000000  \n",
       "mean     35.817961  \n",
       "std      16.705742  \n",
       "min       2.330000  \n",
       "25%      23.710000  \n",
       "50%      34.445000  \n",
       "75%      46.135000  \n",
       "max      82.600000  "
      ]
     },
     "execution_count": 4,
     "metadata": {},
     "output_type": "execute_result"
    }
   ],
   "source": [
    "df.describe()"
   ]
  },
  {
   "cell_type": "code",
   "execution_count": 5,
   "id": "81558107-9ad9-464c-b5df-b344da271814",
   "metadata": {},
   "outputs": [
    {
     "data": {
      "text/plain": [
       "Cement                0\n",
       "Blast Furnace Slag    0\n",
       "Fly Ash               0\n",
       "Water                 0\n",
       "Superplasticizer      0\n",
       "Coarse Aggregate      0\n",
       "Fine Aggregate        0\n",
       "Age                   0\n",
       "Strength              0\n",
       "dtype: int64"
      ]
     },
     "execution_count": 5,
     "metadata": {},
     "output_type": "execute_result"
    }
   ],
   "source": [
    "#Check id any null in this dataset\n",
    "df.isnull().sum()"
   ]
  },
  {
   "cell_type": "code",
   "execution_count": 6,
   "id": "4f0b1c3b-06a1-40f2-9b0e-18cc462f833a",
   "metadata": {},
   "outputs": [],
   "source": [
    "#Split data into predictor and target\n",
    "df_cols=df.columns\n",
    "predictor = df[df_cols[df_cols != 'Strength']] # exclude 'Strength' Column\n",
    "target = df['Strength'] "
   ]
  },
  {
   "cell_type": "code",
   "execution_count": 7,
   "id": "67c0ce3c-2dcf-48f9-88e1-c6f741c7cd4a",
   "metadata": {},
   "outputs": [
    {
     "data": {
      "text/html": [
       "<div>\n",
       "<style scoped>\n",
       "    .dataframe tbody tr th:only-of-type {\n",
       "        vertical-align: middle;\n",
       "    }\n",
       "\n",
       "    .dataframe tbody tr th {\n",
       "        vertical-align: top;\n",
       "    }\n",
       "\n",
       "    .dataframe thead th {\n",
       "        text-align: right;\n",
       "    }\n",
       "</style>\n",
       "<table border=\"1\" class=\"dataframe\">\n",
       "  <thead>\n",
       "    <tr style=\"text-align: right;\">\n",
       "      <th></th>\n",
       "      <th>Cement</th>\n",
       "      <th>Blast Furnace Slag</th>\n",
       "      <th>Fly Ash</th>\n",
       "      <th>Water</th>\n",
       "      <th>Superplasticizer</th>\n",
       "      <th>Coarse Aggregate</th>\n",
       "      <th>Fine Aggregate</th>\n",
       "      <th>Age</th>\n",
       "    </tr>\n",
       "  </thead>\n",
       "  <tbody>\n",
       "    <tr>\n",
       "      <th>0</th>\n",
       "      <td>540.0</td>\n",
       "      <td>0.0</td>\n",
       "      <td>0.0</td>\n",
       "      <td>162.0</td>\n",
       "      <td>2.5</td>\n",
       "      <td>1040.0</td>\n",
       "      <td>676.0</td>\n",
       "      <td>28</td>\n",
       "    </tr>\n",
       "    <tr>\n",
       "      <th>1</th>\n",
       "      <td>540.0</td>\n",
       "      <td>0.0</td>\n",
       "      <td>0.0</td>\n",
       "      <td>162.0</td>\n",
       "      <td>2.5</td>\n",
       "      <td>1055.0</td>\n",
       "      <td>676.0</td>\n",
       "      <td>28</td>\n",
       "    </tr>\n",
       "    <tr>\n",
       "      <th>2</th>\n",
       "      <td>332.5</td>\n",
       "      <td>142.5</td>\n",
       "      <td>0.0</td>\n",
       "      <td>228.0</td>\n",
       "      <td>0.0</td>\n",
       "      <td>932.0</td>\n",
       "      <td>594.0</td>\n",
       "      <td>270</td>\n",
       "    </tr>\n",
       "    <tr>\n",
       "      <th>3</th>\n",
       "      <td>332.5</td>\n",
       "      <td>142.5</td>\n",
       "      <td>0.0</td>\n",
       "      <td>228.0</td>\n",
       "      <td>0.0</td>\n",
       "      <td>932.0</td>\n",
       "      <td>594.0</td>\n",
       "      <td>365</td>\n",
       "    </tr>\n",
       "    <tr>\n",
       "      <th>4</th>\n",
       "      <td>198.6</td>\n",
       "      <td>132.4</td>\n",
       "      <td>0.0</td>\n",
       "      <td>192.0</td>\n",
       "      <td>0.0</td>\n",
       "      <td>978.4</td>\n",
       "      <td>825.5</td>\n",
       "      <td>360</td>\n",
       "    </tr>\n",
       "  </tbody>\n",
       "</table>\n",
       "</div>"
      ],
      "text/plain": [
       "   Cement  Blast Furnace Slag  Fly Ash  Water  Superplasticizer  \\\n",
       "0   540.0                 0.0      0.0  162.0               2.5   \n",
       "1   540.0                 0.0      0.0  162.0               2.5   \n",
       "2   332.5               142.5      0.0  228.0               0.0   \n",
       "3   332.5               142.5      0.0  228.0               0.0   \n",
       "4   198.6               132.4      0.0  192.0               0.0   \n",
       "\n",
       "   Coarse Aggregate  Fine Aggregate  Age  \n",
       "0            1040.0           676.0   28  \n",
       "1            1055.0           676.0   28  \n",
       "2             932.0           594.0  270  \n",
       "3             932.0           594.0  365  \n",
       "4             978.4           825.5  360  "
      ]
     },
     "execution_count": 7,
     "metadata": {},
     "output_type": "execute_result"
    }
   ],
   "source": [
    "#checking both predicator and target dataframes\n",
    "predictor.head()"
   ]
  },
  {
   "cell_type": "code",
   "execution_count": 8,
   "id": "7618d96b-96fe-40fd-91f3-b2e605058d8c",
   "metadata": {},
   "outputs": [
    {
     "data": {
      "text/plain": [
       "0    79.99\n",
       "1    61.89\n",
       "2    40.27\n",
       "3    41.05\n",
       "4    44.30\n",
       "Name: Strength, dtype: float64"
      ]
     },
     "execution_count": 8,
     "metadata": {},
     "output_type": "execute_result"
    }
   ],
   "source": [
    "target.head()"
   ]
  },
  {
   "cell_type": "code",
   "execution_count": 9,
   "id": "d2e5ffbe-eea2-4589-b8a9-0ea969f9c333",
   "metadata": {},
   "outputs": [
    {
     "data": {
      "text/html": [
       "<div>\n",
       "<style scoped>\n",
       "    .dataframe tbody tr th:only-of-type {\n",
       "        vertical-align: middle;\n",
       "    }\n",
       "\n",
       "    .dataframe tbody tr th {\n",
       "        vertical-align: top;\n",
       "    }\n",
       "\n",
       "    .dataframe thead th {\n",
       "        text-align: right;\n",
       "    }\n",
       "</style>\n",
       "<table border=\"1\" class=\"dataframe\">\n",
       "  <thead>\n",
       "    <tr style=\"text-align: right;\">\n",
       "      <th></th>\n",
       "      <th>Cement</th>\n",
       "      <th>Blast Furnace Slag</th>\n",
       "      <th>Fly Ash</th>\n",
       "      <th>Water</th>\n",
       "      <th>Superplasticizer</th>\n",
       "      <th>Coarse Aggregate</th>\n",
       "      <th>Fine Aggregate</th>\n",
       "      <th>Age</th>\n",
       "    </tr>\n",
       "  </thead>\n",
       "  <tbody>\n",
       "    <tr>\n",
       "      <th>0</th>\n",
       "      <td>2.476712</td>\n",
       "      <td>-0.856472</td>\n",
       "      <td>-0.846733</td>\n",
       "      <td>-0.916319</td>\n",
       "      <td>-0.620147</td>\n",
       "      <td>0.862735</td>\n",
       "      <td>-1.217079</td>\n",
       "      <td>-0.279597</td>\n",
       "    </tr>\n",
       "    <tr>\n",
       "      <th>1</th>\n",
       "      <td>2.476712</td>\n",
       "      <td>-0.856472</td>\n",
       "      <td>-0.846733</td>\n",
       "      <td>-0.916319</td>\n",
       "      <td>-0.620147</td>\n",
       "      <td>1.055651</td>\n",
       "      <td>-1.217079</td>\n",
       "      <td>-0.279597</td>\n",
       "    </tr>\n",
       "    <tr>\n",
       "      <th>2</th>\n",
       "      <td>0.491187</td>\n",
       "      <td>0.795140</td>\n",
       "      <td>-0.846733</td>\n",
       "      <td>2.174405</td>\n",
       "      <td>-1.038638</td>\n",
       "      <td>-0.526262</td>\n",
       "      <td>-2.239829</td>\n",
       "      <td>3.551340</td>\n",
       "    </tr>\n",
       "    <tr>\n",
       "      <th>3</th>\n",
       "      <td>0.491187</td>\n",
       "      <td>0.795140</td>\n",
       "      <td>-0.846733</td>\n",
       "      <td>2.174405</td>\n",
       "      <td>-1.038638</td>\n",
       "      <td>-0.526262</td>\n",
       "      <td>-2.239829</td>\n",
       "      <td>5.055221</td>\n",
       "    </tr>\n",
       "    <tr>\n",
       "      <th>4</th>\n",
       "      <td>-0.790075</td>\n",
       "      <td>0.678079</td>\n",
       "      <td>-0.846733</td>\n",
       "      <td>0.488555</td>\n",
       "      <td>-1.038638</td>\n",
       "      <td>0.070492</td>\n",
       "      <td>0.647569</td>\n",
       "      <td>4.976069</td>\n",
       "    </tr>\n",
       "  </tbody>\n",
       "</table>\n",
       "</div>"
      ],
      "text/plain": [
       "     Cement  Blast Furnace Slag   Fly Ash     Water  Superplasticizer  \\\n",
       "0  2.476712           -0.856472 -0.846733 -0.916319         -0.620147   \n",
       "1  2.476712           -0.856472 -0.846733 -0.916319         -0.620147   \n",
       "2  0.491187            0.795140 -0.846733  2.174405         -1.038638   \n",
       "3  0.491187            0.795140 -0.846733  2.174405         -1.038638   \n",
       "4 -0.790075            0.678079 -0.846733  0.488555         -1.038638   \n",
       "\n",
       "   Coarse Aggregate  Fine Aggregate       Age  \n",
       "0          0.862735       -1.217079 -0.279597  \n",
       "1          1.055651       -1.217079 -0.279597  \n",
       "2         -0.526262       -2.239829  3.551340  \n",
       "3         -0.526262       -2.239829  5.055221  \n",
       "4          0.070492        0.647569  4.976069  "
      ]
     },
     "execution_count": 9,
     "metadata": {},
     "output_type": "execute_result"
    }
   ],
   "source": [
    "#Normalise predicator data\n",
    "predictor_norm = (predictor - predictor.mean()) / predictor.std()\n",
    "predictor_norm.head()"
   ]
  },
  {
   "cell_type": "code",
   "execution_count": 10,
   "id": "058d1d33-ed0a-41e8-90e4-ab1ef2807d7c",
   "metadata": {},
   "outputs": [
    {
     "data": {
      "text/plain": [
       "0    2.644123\n",
       "1    1.560663\n",
       "2    0.266498\n",
       "3    0.313188\n",
       "4    0.507732\n",
       "Name: Strength, dtype: float64"
      ]
     },
     "execution_count": 10,
     "metadata": {},
     "output_type": "execute_result"
    }
   ],
   "source": [
    "##Normalise target data\n",
    "target_norm = (target-target.mean())/target.std()\n",
    "target_norm.head()"
   ]
  },
  {
   "cell_type": "code",
   "execution_count": 11,
   "id": "62b4857b-b4b2-4647-a1b1-ffd15d508416",
   "metadata": {},
   "outputs": [],
   "source": [
    " # number of predictors\n",
    "n_cols = predictor_norm.shape[1]"
   ]
  },
  {
   "cell_type": "code",
   "execution_count": 13,
   "id": "19198d10-2884-4724-b0a5-af185529c228",
   "metadata": {},
   "outputs": [],
   "source": [
    "#import keras library\n",
    "import keras"
   ]
  },
  {
   "cell_type": "code",
   "execution_count": 15,
   "id": "57211daa-7024-43a7-b546-d59a5efef3d3",
   "metadata": {},
   "outputs": [],
   "source": [
    "#import the rest of library\n",
    "from keras.models import Sequential\n",
    "from keras.layers import Dense"
   ]
  },
  {
   "cell_type": "markdown",
   "id": "aa4889fd-4d50-4bed-8f51-c134c6aa3267",
   "metadata": {},
   "source": [
    "# Increase 3 hidden layer"
   ]
  },
  {
   "cell_type": "code",
   "execution_count": 16,
   "id": "3ed9aa47-ce1d-4c14-895d-de4ba63bf45f",
   "metadata": {
    "tags": []
   },
   "outputs": [],
   "source": [
    "#Build a Neural Nets function - regression model\n",
    "def regression_model():\n",
    "    # create model\n",
    "    model = Sequential()\n",
    "    model.add(Dense(10, activation='relu', input_shape=(n_cols,)))\n",
    "    model.add(Dense(10, activation='relu'))\n",
    "    model.add(Dense(10, activation='relu'))\n",
    "    model.add(Dense(10, activation='relu'))\n",
    "    model.add(Dense(1))\n",
    "    \n",
    "    # compile model\n",
    "    model.compile(optimizer='adam', loss='mean_squared_error')\n",
    "    return model"
   ]
  },
  {
   "cell_type": "code",
   "execution_count": 17,
   "id": "b5270113-fb7d-4258-859d-6e5858e5290e",
   "metadata": {},
   "outputs": [],
   "source": [
    "#Split train and test data\n",
    "from sklearn.model_selection import train_test_split\n",
    "X_train, X_test, y_train, y_test = train_test_split(predictor_norm, target_norm, test_size=0.3, random_state=30)"
   ]
  },
  {
   "cell_type": "code",
   "execution_count": 18,
   "id": "92de7809-6e89-4da9-a6e4-b3933f4a3026",
   "metadata": {},
   "outputs": [],
   "source": [
    "#Build the model\n",
    "model = regression_model()"
   ]
  },
  {
   "cell_type": "code",
   "execution_count": 19,
   "id": "c8065a02-0e10-49d8-9b98-3cbc8998043b",
   "metadata": {},
   "outputs": [
    {
     "name": "stdout",
     "output_type": "stream",
     "text": [
      "Epoch 1/50\n",
      "721/721 [==============================] - 0s 454us/step - loss: 0.9019\n",
      "Epoch 2/50\n",
      "721/721 [==============================] - 0s 168us/step - loss: 0.8138\n",
      "Epoch 3/50\n",
      "721/721 [==============================] - 0s 172us/step - loss: 0.7336\n",
      "Epoch 4/50\n",
      "721/721 [==============================] - 0s 163us/step - loss: 0.6690\n",
      "Epoch 5/50\n",
      "721/721 [==============================] - 0s 167us/step - loss: 0.6241\n",
      "Epoch 6/50\n",
      "721/721 [==============================] - 0s 164us/step - loss: 0.5767\n",
      "Epoch 7/50\n",
      "721/721 [==============================] - 0s 170us/step - loss: 0.5337\n",
      "Epoch 8/50\n",
      "721/721 [==============================] - 0s 145us/step - loss: 0.4861\n",
      "Epoch 9/50\n",
      "721/721 [==============================] - 0s 166us/step - loss: 0.4434\n",
      "Epoch 10/50\n",
      "721/721 [==============================] - 0s 165us/step - loss: 0.4092\n",
      "Epoch 11/50\n",
      "721/721 [==============================] - 0s 164us/step - loss: 0.3778\n",
      "Epoch 12/50\n",
      "721/721 [==============================] - 0s 167us/step - loss: 0.3490\n",
      "Epoch 13/50\n",
      "721/721 [==============================] - 0s 165us/step - loss: 0.3275\n",
      "Epoch 14/50\n",
      "721/721 [==============================] - 0s 189us/step - loss: 0.3069\n",
      "Epoch 15/50\n",
      "721/721 [==============================] - 0s 165us/step - loss: 0.2878\n",
      "Epoch 16/50\n",
      "721/721 [==============================] - 0s 170us/step - loss: 0.2795\n",
      "Epoch 17/50\n",
      "721/721 [==============================] - 0s 166us/step - loss: 0.2667\n",
      "Epoch 18/50\n",
      "721/721 [==============================] - 0s 167us/step - loss: 0.2542\n",
      "Epoch 19/50\n",
      "721/721 [==============================] - 0s 167us/step - loss: 0.2484\n",
      "Epoch 20/50\n",
      "721/721 [==============================] - 0s 169us/step - loss: 0.2348\n",
      "Epoch 21/50\n",
      "721/721 [==============================] - 0s 165us/step - loss: 0.2285\n",
      "Epoch 22/50\n",
      "721/721 [==============================] - 0s 165us/step - loss: 0.2214\n",
      "Epoch 23/50\n",
      "721/721 [==============================] - 0s 164us/step - loss: 0.2145\n",
      "Epoch 24/50\n",
      "721/721 [==============================] - 0s 167us/step - loss: 0.2097\n",
      "Epoch 25/50\n",
      "721/721 [==============================] - 0s 163us/step - loss: 0.2019\n",
      "Epoch 26/50\n",
      "721/721 [==============================] - 0s 171us/step - loss: 0.1978\n",
      "Epoch 27/50\n",
      "721/721 [==============================] - 0s 164us/step - loss: 0.1938\n",
      "Epoch 28/50\n",
      "721/721 [==============================] - 0s 167us/step - loss: 0.1888\n",
      "Epoch 29/50\n",
      "721/721 [==============================] - 0s 165us/step - loss: 0.1853\n",
      "Epoch 30/50\n",
      "721/721 [==============================] - 0s 163us/step - loss: 0.1811\n",
      "Epoch 31/50\n",
      "721/721 [==============================] - 0s 167us/step - loss: 0.1794\n",
      "Epoch 32/50\n",
      "721/721 [==============================] - 0s 164us/step - loss: 0.1750\n",
      "Epoch 33/50\n",
      "721/721 [==============================] - 0s 166us/step - loss: 0.1730\n",
      "Epoch 34/50\n",
      "721/721 [==============================] - 0s 167us/step - loss: 0.1730\n",
      "Epoch 35/50\n",
      "721/721 [==============================] - 0s 165us/step - loss: 0.1699\n",
      "Epoch 36/50\n",
      "721/721 [==============================] - 0s 188us/step - loss: 0.1676\n",
      "Epoch 37/50\n",
      "721/721 [==============================] - 0s 145us/step - loss: 0.1669\n",
      "Epoch 38/50\n",
      "721/721 [==============================] - 0s 146us/step - loss: 0.1637\n",
      "Epoch 39/50\n",
      "721/721 [==============================] - 0s 166us/step - loss: 0.1611\n",
      "Epoch 40/50\n",
      "721/721 [==============================] - 0s 169us/step - loss: 0.1602\n",
      "Epoch 41/50\n",
      "721/721 [==============================] - 0s 163us/step - loss: 0.1585\n",
      "Epoch 42/50\n",
      "721/721 [==============================] - 0s 165us/step - loss: 0.1548\n",
      "Epoch 43/50\n",
      "721/721 [==============================] - 0s 168us/step - loss: 0.1552\n",
      "Epoch 44/50\n",
      "721/721 [==============================] - 0s 165us/step - loss: 0.1536\n",
      "Epoch 45/50\n",
      "721/721 [==============================] - 0s 168us/step - loss: 0.1546\n",
      "Epoch 46/50\n",
      "721/721 [==============================] - 0s 165us/step - loss: 0.1520\n",
      "Epoch 47/50\n",
      "721/721 [==============================] - 0s 165us/step - loss: 0.1502\n",
      "Epoch 48/50\n",
      "721/721 [==============================] - 0s 165us/step - loss: 0.1512\n",
      "Epoch 49/50\n",
      "721/721 [==============================] - 0s 166us/step - loss: 0.1543\n",
      "Epoch 50/50\n",
      "721/721 [==============================] - 0s 165us/step - loss: 0.1491\n"
     ]
    },
    {
     "data": {
      "text/plain": [
       "<keras.callbacks.History at 0x7f380655fda0>"
      ]
     },
     "execution_count": 19,
     "metadata": {},
     "output_type": "execute_result"
    }
   ],
   "source": [
    "#fit the model\n",
    "epochs_num=50\n",
    "model.fit(X_train, y_train, epochs=epochs_num, verbose=1)"
   ]
  },
  {
   "cell_type": "code",
   "execution_count": 20,
   "id": "0cd3e267-2c13-4142-a0e6-57e56bab6cfb",
   "metadata": {},
   "outputs": [
    {
     "name": "stdout",
     "output_type": "stream",
     "text": [
      "309/309 [==============================] - 0s 102us/step\n"
     ]
    }
   ],
   "source": [
    "loss_val = model.evaluate(X_test, y_test,verbose=1)\n",
    "y_pred = model.predict(X_test)"
   ]
  },
  {
   "cell_type": "code",
   "execution_count": 21,
   "id": "b926a93a-57c9-4e4a-98c8-3270e30a1c43",
   "metadata": {},
   "outputs": [
    {
     "data": {
      "text/plain": [
       "0.21676085373344545"
      ]
     },
     "execution_count": 21,
     "metadata": {},
     "output_type": "execute_result"
    }
   ],
   "source": [
    "loss_val"
   ]
  },
  {
   "cell_type": "code",
   "execution_count": 22,
   "id": "0ff18a4f-dde2-4049-9bcf-3611b0036ca6",
   "metadata": {},
   "outputs": [
    {
     "name": "stdout",
     "output_type": "stream",
     "text": [
      "The Mean is 0.21676085035624354 and the standard deviation is 0.0\n"
     ]
    }
   ],
   "source": [
    "from sklearn.metrics import mean_squared_error\n",
    "\n",
    "mean_sqError = mean_squared_error(y_test, y_pred)\n",
    "mean = np.mean(mean_sqError)\n",
    "std_deviation = np.std(mean_sqError)\n",
    "print(\"The Mean is {} and the standard deviation is {}\".format(mean, std_deviation))"
   ]
  },
  {
   "cell_type": "code",
   "execution_count": 23,
   "id": "cce67d18-7e2c-4b4d-a631-8a16d80eff7e",
   "metadata": {},
   "outputs": [
    {
     "name": "stdout",
     "output_type": "stream",
     "text": [
      "loss-1 of 50>>  0.18770701435777362\n",
      "loss-2 of 50>>  0.18514823629053664\n",
      "loss-3 of 50>>  0.1828868515958292\n",
      "loss-4 of 50>>  0.1777834318891698\n",
      "loss-5 of 50>>  0.17191052658658199\n",
      "loss-6 of 50>>  0.17919444584537864\n",
      "loss-7 of 50>>  0.19135185690373666\n",
      "loss-8 of 50>>  0.20206439929101075\n",
      "loss-9 of 50>>  0.20864571510395186\n",
      "loss-10 of 50>>  0.1938775101236541\n",
      "loss-11 of 50>>  0.20367962700649372\n",
      "loss-12 of 50>>  0.1932767233223591\n",
      "loss-13 of 50>>  0.19884784461803806\n",
      "loss-14 of 50>>  0.20834085422426366\n",
      "loss-15 of 50>>  0.20729841846478408\n",
      "loss-16 of 50>>  0.20163853683517974\n",
      "loss-17 of 50>>  0.20450952706985104\n",
      "loss-18 of 50>>  0.2059426331790134\n",
      "loss-19 of 50>>  0.20662195339172018\n",
      "loss-20 of 50>>  0.20726621541583423\n",
      "loss-21 of 50>>  0.2085028196712142\n",
      "loss-22 of 50>>  0.2060416856822844\n",
      "loss-23 of 50>>  0.20400551241192616\n",
      "loss-24 of 50>>  0.2065667344624942\n",
      "loss-25 of 50>>  0.20712568999108374\n",
      "loss-26 of 50>>  0.20640196730789628\n",
      "loss-27 of 50>>  0.2050936247635042\n",
      "loss-28 of 50>>  0.20545838691270082\n",
      "loss-29 of 50>>  0.20464815479073323\n",
      "loss-30 of 50>>  0.20967728729001142\n",
      "loss-31 of 50>>  0.203718976536615\n",
      "loss-32 of 50>>  0.20873564771078165\n",
      "loss-33 of 50>>  0.2047888143259345\n",
      "loss-34 of 50>>  0.21292631328105927\n",
      "loss-35 of 50>>  0.2101888980198061\n",
      "loss-36 of 50>>  0.2116363052893611\n",
      "loss-37 of 50>>  0.2156860731952013\n",
      "loss-38 of 50>>  0.21810034539514375\n",
      "loss-39 of 50>>  0.21919832921143875\n",
      "loss-40 of 50>>  0.22697391739555162\n",
      "loss-41 of 50>>  0.22312236917250364\n",
      "loss-42 of 50>>  0.22269731972209844\n",
      "loss-43 of 50>>  0.22306290283365157\n",
      "loss-44 of 50>>  0.22722852326519666\n",
      "loss-45 of 50>>  0.22734069351625288\n",
      "loss-46 of 50>>  0.22771428742455047\n",
      "loss-47 of 50>>  0.22314376241759576\n",
      "loss-48 of 50>>  0.2268237760923441\n",
      "loss-49 of 50>>  0.23538310647396593\n",
      "loss-50 of 50>>  0.2227371661022643\n"
     ]
    }
   ],
   "source": [
    "#set number or repeat for mean squared errors\n",
    "repeat = 50\n",
    "mean_sqError_list=list()\n",
    "\n",
    "for i in range (0, repeat):\n",
    "    X_train, X_test, y_train, y_test = train_test_split(predictor_norm, target_norm, test_size=0.3, random_state=30)\n",
    "    model.fit(X_train, y_train, validation_split=0.3, epochs=epochs_num, verbose=0) #verbose 0, to skip all progress verbose\n",
    "    loss = model.evaluate(X_test, y_test, verbose=0)\n",
    "    print(\"loss-{} of {}>>  {}\".format(i+1,repeat,loss))\n",
    "    y_pred = model.predict(X_test)\n",
    "    mse = mean_squared_error(y_test, y_pred)\n",
    "    mean_sqError_list.append(mse)\n",
    "\n"
   ]
  },
  {
   "cell_type": "code",
   "execution_count": 24,
   "id": "71a17f8c-97c6-456f-a653-826dae333d73",
   "metadata": {},
   "outputs": [
    {
     "name": "stdout",
     "output_type": "stream",
     "text": [
      "After 50 epochs, normalised data (50 epochs) of mean squared errors: \n",
      "Mean of the mean squared errors:: 0.20745443577416292\n",
      "Standard Deviation  of the mean squared errors: 0.013866145176820244\n"
     ]
    }
   ],
   "source": [
    "mean_sqError_list = np.array(mean_sqError_list)\n",
    "mean_mse = np.mean(mean_sqError_list)\n",
    "std_deviation_mse = np.std(mean_sqError_list)\n",
    "\n",
    "print(\"After \" +str(repeat) + \" epochs, normalised data (50 epochs) of mean squared errors: \")\n",
    "print(\"Mean of the mean squared errors:: \"+str(mean_mse))\n",
    "print(\"Standard Deviation  of the mean squared errors: \"+str(std_deviation_mse))"
   ]
  },
  {
   "cell_type": "markdown",
   "id": "79166621-254c-4b5c-8f3f-f54612f96827",
   "metadata": {},
   "source": [
    "Conclusion: (Step C) Adding 3 hidden layer with normalised data:\n",
    "# Not so significant, but seems worse than Step B"
   ]
  },
  {
   "cell_type": "markdown",
   "id": "9d1c1eee-7bbb-4262-ab34-99e937d4bad8",
   "metadata": {},
   "source": [
    "#Previous normalised data result (Step B):\n",
    "\n",
    "#Mean of the mean squared errors: 0.16376717097468826\n",
    "\n",
    "#Standard Deviation  of the mean squared errors: 0.03469896468875844\n"
   ]
  },
  {
   "cell_type": "code",
   "execution_count": null,
   "id": "9f2c762e-2693-4cec-9cdc-c49ba6ebbe57",
   "metadata": {},
   "outputs": [],
   "source": []
  }
 ],
 "metadata": {
  "kernelspec": {
   "display_name": "Python",
   "language": "python",
   "name": "conda-env-python-py"
  },
  "language_info": {
   "codemirror_mode": {
    "name": "ipython",
    "version": 3
   },
   "file_extension": ".py",
   "mimetype": "text/x-python",
   "name": "python",
   "nbconvert_exporter": "python",
   "pygments_lexer": "ipython3",
   "version": "3.6.13"
  }
 },
 "nbformat": 4,
 "nbformat_minor": 5
}
